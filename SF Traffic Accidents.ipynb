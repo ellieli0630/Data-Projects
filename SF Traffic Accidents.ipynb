{
 "cells": [
  {
   "cell_type": "code",
   "execution_count": 1,
   "metadata": {
    "collapsed": false
   },
   "outputs": [],
   "source": [
    "%matplotlib inline\n",
    "import pandas as pd\n",
    "import matplotlib  \n",
    "import matplotlib.pyplot as plt  "
   ]
  },
  {
   "cell_type": "code",
   "execution_count": 2,
   "metadata": {
    "collapsed": false
   },
   "outputs": [
    {
     "data": {
      "text/html": [
       "<style>body {\n",
       "    margin: 0;\n",
       "    font-family: Helvetica;\n",
       "}\n",
       "table.dataframe {\n",
       "    border-collapse: collapse;\n",
       "    border: none;\n",
       "}\n",
       "table.dataframe tr {\n",
       "    border: none;\n",
       "}\n",
       "table.dataframe td, table.dataframe th {\n",
       "    margin: 0;\n",
       "    border: 1px solid white;\n",
       "    padding-left: 0.25em;\n",
       "    padding-right: 0.25em;\n",
       "}\n",
       "table.dataframe th:not(:empty) {\n",
       "    background-color: #fec;\n",
       "    text-align: left;\n",
       "    font-weight: normal;\n",
       "}\n",
       "table.dataframe tr:nth-child(2) th:empty {\n",
       "    border-left: none;\n",
       "    border-right: 1px dashed #888;\n",
       "}\n",
       "table.dataframe td {\n",
       "    border: 2px solid #ccf;\n",
       "    background-color: #f4f4ff;\n",
       "}\n",
       "h3 {\n",
       "    color: white;\n",
       "    background-color: black;\n",
       "    padding: 0.5em;\n",
       "}\n",
       "</style>"
      ],
      "text/plain": [
       "<IPython.core.display.HTML object>"
      ]
     },
     "execution_count": 2,
     "metadata": {},
     "output_type": "execute_result"
    }
   ],
   "source": [
    "from IPython.core.display import HTML\n",
    "css = open('style-table.css').read() + open('style-notebook.css').read()\n",
    "HTML('<style>{}</style>'.format(css))"
   ]
  },
  {
   "cell_type": "code",
   "execution_count": 3,
   "metadata": {
    "collapsed": false
   },
   "outputs": [
    {
     "data": {
      "text/html": [
       "<div>\n",
       "<table border=\"1\" class=\"dataframe\">\n",
       "  <thead>\n",
       "    <tr style=\"text-align: right;\">\n",
       "      <th></th>\n",
       "      <th>IncidntNum</th>\n",
       "      <th>Category</th>\n",
       "      <th>Descript</th>\n",
       "      <th>DayOfWeek</th>\n",
       "      <th>Date</th>\n",
       "      <th>Time</th>\n",
       "      <th>PdDistrict</th>\n",
       "      <th>Resolution</th>\n",
       "      <th>Address</th>\n",
       "      <th>X</th>\n",
       "      <th>Y</th>\n",
       "      <th>Location</th>\n",
       "    </tr>\n",
       "  </thead>\n",
       "  <tbody>\n",
       "    <tr>\n",
       "      <th>0</th>\n",
       "      <td>100470163</td>\n",
       "      <td>NON-CRIMINAL</td>\n",
       "      <td>TRAFFIC ACCIDENT</td>\n",
       "      <td>Thursday</td>\n",
       "      <td>05/20/2010</td>\n",
       "      <td>22:22</td>\n",
       "      <td>RICHMOND</td>\n",
       "      <td>ARREST, BOOKED</td>\n",
       "      <td>100 Block of 10TH AV</td>\n",
       "      <td>-122.468975</td>\n",
       "      <td>37.785531</td>\n",
       "      <td>(37.7855307336245, -122.468975014442)</td>\n",
       "    </tr>\n",
       "    <tr>\n",
       "      <th>1</th>\n",
       "      <td>120477826</td>\n",
       "      <td>NON-CRIMINAL</td>\n",
       "      <td>TRAFFIC ACCIDENT</td>\n",
       "      <td>Monday</td>\n",
       "      <td>06/18/2012</td>\n",
       "      <td>10:24</td>\n",
       "      <td>RICHMOND</td>\n",
       "      <td>NONE</td>\n",
       "      <td>400 Block of 6TH AV</td>\n",
       "      <td>-122.464280</td>\n",
       "      <td>37.780033</td>\n",
       "      <td>(37.7800332991006, -122.464279879446)</td>\n",
       "    </tr>\n",
       "    <tr>\n",
       "      <th>2</th>\n",
       "      <td>110911630</td>\n",
       "      <td>NON-CRIMINAL</td>\n",
       "      <td>TRAFFIC ACCIDENT</td>\n",
       "      <td>Friday</td>\n",
       "      <td>11/11/2011</td>\n",
       "      <td>22:18</td>\n",
       "      <td>TENDERLOIN</td>\n",
       "      <td>ARREST, BOOKED</td>\n",
       "      <td>200 Block of GOLDEN GATE AV</td>\n",
       "      <td>-122.414263</td>\n",
       "      <td>37.781757</td>\n",
       "      <td>(37.7817569847968, -122.414263390372)</td>\n",
       "    </tr>\n",
       "    <tr>\n",
       "      <th>3</th>\n",
       "      <td>140024811</td>\n",
       "      <td>NON-CRIMINAL</td>\n",
       "      <td>TRAFFIC ACCIDENT</td>\n",
       "      <td>Thursday</td>\n",
       "      <td>01/09/2014</td>\n",
       "      <td>09:30</td>\n",
       "      <td>TARAVAL</td>\n",
       "      <td>NONE</td>\n",
       "      <td>LINCOLN WY / FUNSTON AV</td>\n",
       "      <td>-122.470728</td>\n",
       "      <td>37.765738</td>\n",
       "      <td>(37.7657375793742, -122.470728488949)</td>\n",
       "    </tr>\n",
       "    <tr>\n",
       "      <th>4</th>\n",
       "      <td>60559774</td>\n",
       "      <td>NON-CRIMINAL</td>\n",
       "      <td>TRAFFIC ACCIDENT</td>\n",
       "      <td>Friday</td>\n",
       "      <td>05/26/2006</td>\n",
       "      <td>17:55</td>\n",
       "      <td>INGLESIDE</td>\n",
       "      <td>ARREST, BOOKED</td>\n",
       "      <td>1300 Block of BOWDOIN ST</td>\n",
       "      <td>-122.407934</td>\n",
       "      <td>37.719443</td>\n",
       "      <td>(37.7194433534269, -122.407934351403)</td>\n",
       "    </tr>\n",
       "  </tbody>\n",
       "</table>\n",
       "</div>"
      ],
      "text/plain": [
       "   IncidntNum      Category          Descript DayOfWeek        Date   Time  \\\n",
       "0   100470163  NON-CRIMINAL  TRAFFIC ACCIDENT  Thursday  05/20/2010  22:22   \n",
       "1   120477826  NON-CRIMINAL  TRAFFIC ACCIDENT    Monday  06/18/2012  10:24   \n",
       "2   110911630  NON-CRIMINAL  TRAFFIC ACCIDENT    Friday  11/11/2011  22:18   \n",
       "3   140024811  NON-CRIMINAL  TRAFFIC ACCIDENT  Thursday  01/09/2014  09:30   \n",
       "4    60559774  NON-CRIMINAL  TRAFFIC ACCIDENT    Friday  05/26/2006  17:55   \n",
       "\n",
       "   PdDistrict      Resolution                      Address           X  \\\n",
       "0    RICHMOND  ARREST, BOOKED         100 Block of 10TH AV -122.468975   \n",
       "1    RICHMOND            NONE          400 Block of 6TH AV -122.464280   \n",
       "2  TENDERLOIN  ARREST, BOOKED  200 Block of GOLDEN GATE AV -122.414263   \n",
       "3     TARAVAL            NONE      LINCOLN WY / FUNSTON AV -122.470728   \n",
       "4   INGLESIDE  ARREST, BOOKED     1300 Block of BOWDOIN ST -122.407934   \n",
       "\n",
       "           Y                               Location  \n",
       "0  37.785531  (37.7855307336245, -122.468975014442)  \n",
       "1  37.780033  (37.7800332991006, -122.464279879446)  \n",
       "2  37.781757  (37.7817569847968, -122.414263390372)  \n",
       "3  37.765738  (37.7657375793742, -122.470728488949)  \n",
       "4  37.719443  (37.7194433534269, -122.407934351403)  "
      ]
     },
     "execution_count": 3,
     "metadata": {},
     "output_type": "execute_result"
    }
   ],
   "source": [
    "#I got data from SF OpenData to analyze traffic accidents in SF.\n",
    "Traffic = pd.DataFrame.from_csv('Traffic_Accidents__Previous_3_Months_.csv', index_col=None)\n",
    "Traffic.head()"
   ]
  },
  {
   "cell_type": "code",
   "execution_count": 4,
   "metadata": {
    "collapsed": true
   },
   "outputs": [],
   "source": [
    "import matplotlib.pyplot as plt"
   ]
  },
  {
   "cell_type": "code",
   "execution_count": 5,
   "metadata": {
    "collapsed": false
   },
   "outputs": [],
   "source": [
    "import datetime\n",
    "import numpy as np"
   ]
  },
  {
   "cell_type": "code",
   "execution_count": 6,
   "metadata": {
    "collapsed": false
   },
   "outputs": [
    {
     "data": {
      "text/plain": [
       "<matplotlib.axes._subplots.AxesSubplot at 0x10a5f9ba8>"
      ]
     },
     "execution_count": 6,
     "metadata": {},
     "output_type": "execute_result"
    },
    {
     "data": {
      "image/png": "[encoded data removed]",
      "text/plain": [
       "<matplotlib.figure.Figure at 0x10a5f9390>"
      ]
     },
     "metadata": {},
     "output_type": "display_data"
    }
   ],
   "source": [
    "Traffic['Year']=pd.to_datetime(Traffic['Date'], unit='s').dt.strftime('%Y') \n",
    "Traffic.Year.value_counts().plot(kind='bar')"
   ]
  },
  {
   "cell_type": "code",
   "execution_count": 7,
   "metadata": {
    "collapsed": false
   },
   "outputs": [],
   "source": [
    "NYear=Traffic.Year.value_counts()"
   ]
  },
  {
   "cell_type": "code",
   "execution_count": 8,
   "metadata": {
    "collapsed": false
   },
   "outputs": [],
   "source": [
    "Traffic['Month']=pd.to_datetime(Traffic['Date'], unit='s').dt.strftime('%B') \n",
    "NMonth=Traffic.Month.value_counts()\n",
    "NDay=Traffic.DayOfWeek.value_counts()"
   ]
  },
  {
   "cell_type": "code",
   "execution_count": 22,
   "metadata": {
    "collapsed": false
   },
   "outputs": [],
   "source": [
    "Traffic['Hour']=pd.to_datetime(Traffic['Time'], unit='s').dt.strftime('%H')"
   ]
  },
  {
   "cell_type": "code",
   "execution_count": 23,
   "metadata": {
    "collapsed": false
   },
   "outputs": [],
   "source": [
    "#Convert Hour to numeric (small int being all that's needed)\n",
    "Traffic.Hour = Traffic.Hour.astype('int8')"
   ]
  },
  {
   "cell_type": "code",
   "execution_count": 24,
   "metadata": {
    "collapsed": true
   },
   "outputs": [],
   "source": [
    "#Initialize a new column (of nulls) called TimeOfDay\n",
    "Traffic['TimeOfDay'] = np.nan"
   ]
  },
  {
   "cell_type": "code",
   "execution_count": 25,
   "metadata": {
    "collapsed": false
   },
   "outputs": [
    {
     "name": "stderr",
     "output_type": "stream",
     "text": [
      "/Users/yichenli/anaconda/lib/python3.5/site-packages/ipykernel/__main__.py:4: SettingWithCopyWarning: \n",
      "A value is trying to be set on a copy of a slice from a DataFrame\n",
      "\n",
      "See the caveats in the documentation: http://pandas.pydata.org/pandas-docs/stable/indexing.html#indexing-view-versus-copy\n",
      "/Users/yichenli/anaconda/lib/python3.5/site-packages/ipykernel/__main__.py:7: SettingWithCopyWarning: \n",
      "A value is trying to be set on a copy of a slice from a DataFrame\n",
      "\n",
      "See the caveats in the documentation: http://pandas.pydata.org/pandas-docs/stable/indexing.html#indexing-view-versus-copy\n",
      "/Users/yichenli/anaconda/lib/python3.5/site-packages/ipykernel/__main__.py:8: SettingWithCopyWarning: \n",
      "A value is trying to be set on a copy of a slice from a DataFrame\n",
      "\n",
      "See the caveats in the documentation: http://pandas.pydata.org/pandas-docs/stable/indexing.html#indexing-view-versus-copy\n"
     ]
    },
    {
     "data": {
      "text/plain": [
       "DayTime    517\n",
       "Night      209\n",
       "Morning    181\n",
       "Name: TimeOfDay, dtype: int64"
      ]
     },
     "execution_count": 25,
     "metadata": {},
     "output_type": "execute_result"
    }
   ],
   "source": [
    "# For assign each incident as 'Morning' if 'Hour' less than 8. This can be done\n",
    "#by calling the 'TimeOfDay' series, subsetting the dataframe by Hour, and\n",
    "#assigning that element as 'Morning'\n",
    "Traffic['TimeOfDay'][Traffic['Hour']<8] = 'Morning'\n",
    "# Use parentheses and boolean operators (and, or) to subset a dataframe on\n",
    "#multiple critiera \n",
    "Traffic['TimeOfDay'][(Traffic['Hour'] >=8) & (Traffic['Hour']<=18)] = 'DayTime'\n",
    "Traffic['TimeOfDay'][Traffic['Hour'] > 18] = 'Night'\n",
    "Traffic.TimeOfDay.value_counts()"
   ]
  },
  {
   "cell_type": "code",
   "execution_count": null,
   "metadata": {
    "collapsed": true
   },
   "outputs": [],
   "source": [
    "#As we can see, from 8am to 18pm, there are 517 accidents, while 209 for after 18pm and 181 for before 8am. "
   ]
  },
  {
   "cell_type": "code",
   "execution_count": 137,
   "metadata": {
    "collapsed": false
   },
   "outputs": [
    {
     "data": {
      "text/plain": [
       "<matplotlib.axes._subplots.AxesSubplot at 0x1157baf28>"
      ]
     },
     "execution_count": 137,
     "metadata": {},
     "output_type": "execute_result"
    },
    {
     "data": {
      "image/png": "[encoded data removed]",
      "text/plain": [
       "<matplotlib.figure.Figure at 0x115b00c88>"
      ]
     },
     "metadata": {},
     "output_type": "display_data"
    }
   ],
   "source": [
    "Traffic.Resolution.value_counts().plot(kind='bar')"
   ]
  },
  {
   "cell_type": "code",
   "execution_count": 23,
   "metadata": {
    "collapsed": false
   },
   "outputs": [
    {
     "data": {
      "text/html": [
       "<div>\n",
       "<table border=\"1\" class=\"dataframe\">\n",
       "  <thead>\n",
       "    <tr style=\"text-align: right;\">\n",
       "      <th></th>\n",
       "      <th>IncidntNum</th>\n",
       "      <th>X</th>\n",
       "      <th>Y</th>\n",
       "    </tr>\n",
       "  </thead>\n",
       "  <tbody>\n",
       "    <tr>\n",
       "      <th>count</th>\n",
       "      <td>9.070000e+02</td>\n",
       "      <td>907.000000</td>\n",
       "      <td>907.000000</td>\n",
       "    </tr>\n",
       "    <tr>\n",
       "      <th>mean</th>\n",
       "      <td>8.917482e+07</td>\n",
       "      <td>-122.429629</td>\n",
       "      <td>37.760828</td>\n",
       "    </tr>\n",
       "    <tr>\n",
       "      <th>std</th>\n",
       "      <td>3.596502e+07</td>\n",
       "      <td>0.030687</td>\n",
       "      <td>0.024703</td>\n",
       "    </tr>\n",
       "    <tr>\n",
       "      <th>min</th>\n",
       "      <td>2.092167e+07</td>\n",
       "      <td>-122.510226</td>\n",
       "      <td>37.708311</td>\n",
       "    </tr>\n",
       "    <tr>\n",
       "      <th>25%</th>\n",
       "      <td>6.078710e+07</td>\n",
       "      <td>-122.452290</td>\n",
       "      <td>37.741299</td>\n",
       "    </tr>\n",
       "    <tr>\n",
       "      <th>50%</th>\n",
       "      <td>9.001177e+07</td>\n",
       "      <td>-122.420875</td>\n",
       "      <td>37.764323</td>\n",
       "    </tr>\n",
       "    <tr>\n",
       "      <th>75%</th>\n",
       "      <td>1.203257e+08</td>\n",
       "      <td>-122.406460</td>\n",
       "      <td>37.780809</td>\n",
       "    </tr>\n",
       "    <tr>\n",
       "      <th>max</th>\n",
       "      <td>1.600159e+08</td>\n",
       "      <td>-122.365565</td>\n",
       "      <td>37.809671</td>\n",
       "    </tr>\n",
       "  </tbody>\n",
       "</table>\n",
       "</div>"
      ],
      "text/plain": [
       "         IncidntNum           X           Y\n",
       "count  9.070000e+02  907.000000  907.000000\n",
       "mean   8.917482e+07 -122.429629   37.760828\n",
       "std    3.596502e+07    0.030687    0.024703\n",
       "min    2.092167e+07 -122.510226   37.708311\n",
       "25%    6.078710e+07 -122.452290   37.741299\n",
       "50%    9.001177e+07 -122.420875   37.764323\n",
       "75%    1.203257e+08 -122.406460   37.780809\n",
       "max    1.600159e+08 -122.365565   37.809671"
      ]
     },
     "execution_count": 23,
     "metadata": {},
     "output_type": "execute_result"
    }
   ],
   "source": [
    "Traffic.describe()"
   ]
  },
  {
   "cell_type": "code",
   "execution_count": 22,
   "metadata": {
    "collapsed": false
   },
   "outputs": [],
   "source": [
    "pd.options.display.mpl_style = 'default' #Better Styling  \n",
    "new_style = {'grid': False} #Remove grid  \n",
    "matplotlib.rc('axes', **new_style)  \n",
    "from matplotlib import rcParams  \n",
    "rcParams['figure.figsize'] = (17.5, 17) #Size of figure  \n",
    "rcParams['figure.dpi'] = 250"
   ]
  },
  {
   "cell_type": "code",
   "execution_count": 28,
   "metadata": {
    "collapsed": false
   },
   "outputs": [
    {
     "data": {
      "image/png": "[encoded data removed]",
      "text/plain": [
       "<matplotlib.figure.Figure at 0x110858550>"
      ]
     },
     "metadata": {},
     "output_type": "display_data"
    }
   ],
   "source": [
    "P=Traffic.plot(kind='scatter', x='X', y='Y',color='white',xlim=(-122.510226,-122.365565),ylim=(37.708311,37.809671), alpha=.75)\n",
    "P.set_axis_bgcolor('black') #Background Color"
   ]
  },
  {
   "cell_type": "code",
   "execution_count": null,
   "metadata": {
    "collapsed": false
   },
   "outputs": [],
   "source": []
  },
  {
   "cell_type": "code",
   "execution_count": null,
   "metadata": {
    "collapsed": false
   },
   "outputs": [],
   "source": []
  },
  {
   "cell_type": "code",
   "execution_count": null,
   "metadata": {
    "collapsed": false
   },
   "outputs": [],
   "source": []
  },
  {
   "cell_type": "code",
   "execution_count": null,
   "metadata": {
    "collapsed": false
   },
   "outputs": [],
   "source": []
  },
  {
   "cell_type": "code",
   "execution_count": null,
   "metadata": {
    "collapsed": false
   },
   "outputs": [],
   "source": []
  },
  {
   "cell_type": "code",
   "execution_count": null,
   "metadata": {
    "collapsed": false
   },
   "outputs": [],
   "source": []
  },
  {
   "cell_type": "code",
   "execution_count": null,
   "metadata": {
    "collapsed": false
   },
   "outputs": [],
   "source": []
  },
  {
   "cell_type": "code",
   "execution_count": null,
   "metadata": {
    "collapsed": false
   },
   "outputs": [],
   "source": []
  },
  {
   "cell_type": "code",
   "execution_count": null,
   "metadata": {
    "collapsed": false
   },
   "outputs": [],
   "source": []
  },
  {
   "cell_type": "code",
   "execution_count": null,
   "metadata": {
    "collapsed": false
   },
   "outputs": [],
   "source": []
  },
  {
   "cell_type": "code",
   "execution_count": null,
   "metadata": {
    "collapsed": false
   },
   "outputs": [],
   "source": []
  },
  {
   "cell_type": "code",
   "execution_count": null,
   "metadata": {
    "collapsed": false
   },
   "outputs": [],
   "source": []
  },
  {
   "cell_type": "code",
   "execution_count": null,
   "metadata": {
    "collapsed": false
   },
   "outputs": [],
   "source": []
  },
  {
   "cell_type": "code",
   "execution_count": null,
   "metadata": {
    "collapsed": false
   },
   "outputs": [],
   "source": []
  },
  {
   "cell_type": "code",
   "execution_count": null,
   "metadata": {
    "collapsed": false
   },
   "outputs": [],
   "source": []
  },
  {
   "cell_type": "code",
   "execution_count": null,
   "metadata": {
    "collapsed": false
   },
   "outputs": [],
   "source": []
  },
  {
   "cell_type": "code",
   "execution_count": null,
   "metadata": {
    "collapsed": true
   },
   "outputs": [],
   "source": []
  }
 ],
 "metadata": {
  "kernelspec": {
   "display_name": "Python 3",
   "language": "python",
   "name": "python3"
  },
  "language_info": {
   "codemirror_mode": {
    "name": "ipython",
    "version": 3
   },
   "file_extension": ".py",
   "mimetype": "text/x-python",
   "name": "python",
   "nbconvert_exporter": "python",
   "pygments_lexer": "ipython3",
   "version": "3.5.0"
  }
 },
 "nbformat": 4,
 "nbformat_minor": 0
}
